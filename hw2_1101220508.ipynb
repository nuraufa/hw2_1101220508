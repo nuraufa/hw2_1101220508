{
 "cells": [
  {
   "cell_type": "markdown",
   "id": "b0856b72-ded3-4a1c-897e-e6a1e7378cf3",
   "metadata": {},
   "source": [
    "Name : Nur Aufa Student ID : 1101220508"
   ]
  },
  {
   "cell_type": "code",
   "execution_count": 8,
   "id": "e883d72d-d7e4-4fdd-b8a1-3ec1b79d8add",
   "metadata": {},
   "outputs": [],
   "source": [
    "import pandas as pd"
   ]
  },
  {
   "cell_type": "code",
   "execution_count": 10,
   "id": "154f8b0f-1f07-4be8-8e2c-6ce1f6fa4579",
   "metadata": {},
   "outputs": [],
   "source": [
    "import numpy as np"
   ]
  },
  {
   "cell_type": "code",
   "execution_count": 12,
   "id": "6b7269aa-b588-4fbd-932f-649be9a62673",
   "metadata": {},
   "outputs": [],
   "source": [
    "import seaborn as sns"
   ]
  },
  {
   "cell_type": "code",
   "execution_count": 13,
   "id": "d1b6df86-3acd-4362-9a33-7af34f28e39b",
   "metadata": {},
   "outputs": [],
   "source": [
    "import matplotlib.pyplot as plt"
   ]
  },
  {
   "cell_type": "markdown",
   "id": "5639e038-36fe-4f1a-86c2-947631c8f3c3",
   "metadata": {},
   "source": [
    "memasukkan data csv"
   ]
  },
  {
   "cell_type": "code",
   "execution_count": 15,
   "id": "c52011b5-c3a9-4a8a-8088-0532640981db",
   "metadata": {},
   "outputs": [],
   "source": [
    "ky = pd.read_csv(\"laptop_data.csv\")"
   ]
  },
  {
   "cell_type": "markdown",
   "id": "35d93852-e9c9-45ed-8e3d-4596ad65b7c2",
   "metadata": {},
   "source": [
    "tampilkan 10 teratas"
   ]
  },
  {
   "cell_type": "code",
   "execution_count": 17,
   "id": "75beeb45-ec62-4fe4-9556-5d1aaf6f9731",
   "metadata": {},
   "outputs": [],
   "source": [
    "ky = pd.read_csv(\"laptop_data.csv\")"
   ]
  },
  {
   "cell_type": "code",
   "execution_count": 23,
   "id": "20993b08-721c-4c36-915a-62111acdd3ee",
   "metadata": {},
   "outputs": [
    {
     "data": {
      "text/html": [
       "<div>\n",
       "<style scoped>\n",
       "    .dataframe tbody tr th:only-of-type {\n",
       "        vertical-align: middle;\n",
       "    }\n",
       "\n",
       "    .dataframe tbody tr th {\n",
       "        vertical-align: top;\n",
       "    }\n",
       "\n",
       "    .dataframe thead th {\n",
       "        text-align: right;\n",
       "    }\n",
       "</style>\n",
       "<table border=\"1\" class=\"dataframe\">\n",
       "  <thead>\n",
       "    <tr style=\"text-align: right;\">\n",
       "      <th></th>\n",
       "      <th>Unnamed: 0</th>\n",
       "      <th>Company</th>\n",
       "      <th>TypeName</th>\n",
       "      <th>Inches</th>\n",
       "      <th>ScreenResolution</th>\n",
       "      <th>Cpu</th>\n",
       "      <th>Ram</th>\n",
       "      <th>Memory</th>\n",
       "      <th>Gpu</th>\n",
       "      <th>OpSys</th>\n",
       "      <th>Weight</th>\n",
       "      <th>Price</th>\n",
       "    </tr>\n",
       "  </thead>\n",
       "  <tbody>\n",
       "    <tr>\n",
       "      <th>0</th>\n",
       "      <td>0</td>\n",
       "      <td>Apple</td>\n",
       "      <td>Ultrabook</td>\n",
       "      <td>13.3</td>\n",
       "      <td>IPS Panel Retina Display 2560x1600</td>\n",
       "      <td>Intel Core i5 2.3GHz</td>\n",
       "      <td>8GB</td>\n",
       "      <td>128GB SSD</td>\n",
       "      <td>Intel Iris Plus Graphics 640</td>\n",
       "      <td>macOS</td>\n",
       "      <td>1.37kg</td>\n",
       "      <td>71378.6832</td>\n",
       "    </tr>\n",
       "    <tr>\n",
       "      <th>1</th>\n",
       "      <td>1</td>\n",
       "      <td>Apple</td>\n",
       "      <td>Ultrabook</td>\n",
       "      <td>13.3</td>\n",
       "      <td>1440x900</td>\n",
       "      <td>Intel Core i5 1.8GHz</td>\n",
       "      <td>8GB</td>\n",
       "      <td>128GB Flash Storage</td>\n",
       "      <td>Intel HD Graphics 6000</td>\n",
       "      <td>macOS</td>\n",
       "      <td>1.34kg</td>\n",
       "      <td>47895.5232</td>\n",
       "    </tr>\n",
       "    <tr>\n",
       "      <th>2</th>\n",
       "      <td>2</td>\n",
       "      <td>HP</td>\n",
       "      <td>Notebook</td>\n",
       "      <td>15.6</td>\n",
       "      <td>Full HD 1920x1080</td>\n",
       "      <td>Intel Core i5 7200U 2.5GHz</td>\n",
       "      <td>8GB</td>\n",
       "      <td>256GB SSD</td>\n",
       "      <td>Intel HD Graphics 620</td>\n",
       "      <td>No OS</td>\n",
       "      <td>1.86kg</td>\n",
       "      <td>30636.0000</td>\n",
       "    </tr>\n",
       "    <tr>\n",
       "      <th>3</th>\n",
       "      <td>3</td>\n",
       "      <td>Apple</td>\n",
       "      <td>Ultrabook</td>\n",
       "      <td>15.4</td>\n",
       "      <td>IPS Panel Retina Display 2880x1800</td>\n",
       "      <td>Intel Core i7 2.7GHz</td>\n",
       "      <td>16GB</td>\n",
       "      <td>512GB SSD</td>\n",
       "      <td>AMD Radeon Pro 455</td>\n",
       "      <td>macOS</td>\n",
       "      <td>1.83kg</td>\n",
       "      <td>135195.3360</td>\n",
       "    </tr>\n",
       "    <tr>\n",
       "      <th>4</th>\n",
       "      <td>4</td>\n",
       "      <td>Apple</td>\n",
       "      <td>Ultrabook</td>\n",
       "      <td>13.3</td>\n",
       "      <td>IPS Panel Retina Display 2560x1600</td>\n",
       "      <td>Intel Core i5 3.1GHz</td>\n",
       "      <td>8GB</td>\n",
       "      <td>256GB SSD</td>\n",
       "      <td>Intel Iris Plus Graphics 650</td>\n",
       "      <td>macOS</td>\n",
       "      <td>1.37kg</td>\n",
       "      <td>96095.8080</td>\n",
       "    </tr>\n",
       "  </tbody>\n",
       "</table>\n",
       "</div>"
      ],
      "text/plain": [
       "   Unnamed: 0 Company   TypeName  Inches                    ScreenResolution  \\\n",
       "0           0   Apple  Ultrabook    13.3  IPS Panel Retina Display 2560x1600   \n",
       "1           1   Apple  Ultrabook    13.3                            1440x900   \n",
       "2           2      HP   Notebook    15.6                   Full HD 1920x1080   \n",
       "3           3   Apple  Ultrabook    15.4  IPS Panel Retina Display 2880x1800   \n",
       "4           4   Apple  Ultrabook    13.3  IPS Panel Retina Display 2560x1600   \n",
       "\n",
       "                          Cpu   Ram               Memory  \\\n",
       "0        Intel Core i5 2.3GHz   8GB            128GB SSD   \n",
       "1        Intel Core i5 1.8GHz   8GB  128GB Flash Storage   \n",
       "2  Intel Core i5 7200U 2.5GHz   8GB            256GB SSD   \n",
       "3        Intel Core i7 2.7GHz  16GB            512GB SSD   \n",
       "4        Intel Core i5 3.1GHz   8GB            256GB SSD   \n",
       "\n",
       "                            Gpu  OpSys  Weight        Price  \n",
       "0  Intel Iris Plus Graphics 640  macOS  1.37kg   71378.6832  \n",
       "1        Intel HD Graphics 6000  macOS  1.34kg   47895.5232  \n",
       "2         Intel HD Graphics 620  No OS  1.86kg   30636.0000  \n",
       "3            AMD Radeon Pro 455  macOS  1.83kg  135195.3360  \n",
       "4  Intel Iris Plus Graphics 650  macOS  1.37kg   96095.8080  "
      ]
     },
     "execution_count": 23,
     "metadata": {},
     "output_type": "execute_result"
    }
   ],
   "source": [
    "ky.head()"
   ]
  },
  {
   "cell_type": "markdown",
   "id": "fc76d838-917a-4055-a019-56a317f5d5b4",
   "metadata": {},
   "source": [
    "tampilkan 5 data terbawah"
   ]
  },
  {
   "cell_type": "code",
   "execution_count": 26,
   "id": "b0df2890-c787-4843-a6cb-b0b8fb94df4e",
   "metadata": {},
   "outputs": [
    {
     "data": {
      "text/html": [
       "<div>\n",
       "<style scoped>\n",
       "    .dataframe tbody tr th:only-of-type {\n",
       "        vertical-align: middle;\n",
       "    }\n",
       "\n",
       "    .dataframe tbody tr th {\n",
       "        vertical-align: top;\n",
       "    }\n",
       "\n",
       "    .dataframe thead th {\n",
       "        text-align: right;\n",
       "    }\n",
       "</style>\n",
       "<table border=\"1\" class=\"dataframe\">\n",
       "  <thead>\n",
       "    <tr style=\"text-align: right;\">\n",
       "      <th></th>\n",
       "      <th>Unnamed: 0</th>\n",
       "      <th>Company</th>\n",
       "      <th>TypeName</th>\n",
       "      <th>Inches</th>\n",
       "      <th>ScreenResolution</th>\n",
       "      <th>Cpu</th>\n",
       "      <th>Ram</th>\n",
       "      <th>Memory</th>\n",
       "      <th>Gpu</th>\n",
       "      <th>OpSys</th>\n",
       "      <th>Weight</th>\n",
       "      <th>Price</th>\n",
       "    </tr>\n",
       "  </thead>\n",
       "  <tbody>\n",
       "    <tr>\n",
       "      <th>1298</th>\n",
       "      <td>1298</td>\n",
       "      <td>Lenovo</td>\n",
       "      <td>2 in 1 Convertible</td>\n",
       "      <td>14.0</td>\n",
       "      <td>IPS Panel Full HD / Touchscreen 1920x1080</td>\n",
       "      <td>Intel Core i7 6500U 2.5GHz</td>\n",
       "      <td>4GB</td>\n",
       "      <td>128GB SSD</td>\n",
       "      <td>Intel HD Graphics 520</td>\n",
       "      <td>Windows 10</td>\n",
       "      <td>1.8kg</td>\n",
       "      <td>33992.64</td>\n",
       "    </tr>\n",
       "    <tr>\n",
       "      <th>1299</th>\n",
       "      <td>1299</td>\n",
       "      <td>Lenovo</td>\n",
       "      <td>2 in 1 Convertible</td>\n",
       "      <td>13.3</td>\n",
       "      <td>IPS Panel Quad HD+ / Touchscreen 3200x1800</td>\n",
       "      <td>Intel Core i7 6500U 2.5GHz</td>\n",
       "      <td>16GB</td>\n",
       "      <td>512GB SSD</td>\n",
       "      <td>Intel HD Graphics 520</td>\n",
       "      <td>Windows 10</td>\n",
       "      <td>1.3kg</td>\n",
       "      <td>79866.72</td>\n",
       "    </tr>\n",
       "    <tr>\n",
       "      <th>1300</th>\n",
       "      <td>1300</td>\n",
       "      <td>Lenovo</td>\n",
       "      <td>Notebook</td>\n",
       "      <td>14.0</td>\n",
       "      <td>1366x768</td>\n",
       "      <td>Intel Celeron Dual Core N3050 1.6GHz</td>\n",
       "      <td>2GB</td>\n",
       "      <td>64GB Flash Storage</td>\n",
       "      <td>Intel HD Graphics</td>\n",
       "      <td>Windows 10</td>\n",
       "      <td>1.5kg</td>\n",
       "      <td>12201.12</td>\n",
       "    </tr>\n",
       "    <tr>\n",
       "      <th>1301</th>\n",
       "      <td>1301</td>\n",
       "      <td>HP</td>\n",
       "      <td>Notebook</td>\n",
       "      <td>15.6</td>\n",
       "      <td>1366x768</td>\n",
       "      <td>Intel Core i7 6500U 2.5GHz</td>\n",
       "      <td>6GB</td>\n",
       "      <td>1TB HDD</td>\n",
       "      <td>AMD Radeon R5 M330</td>\n",
       "      <td>Windows 10</td>\n",
       "      <td>2.19kg</td>\n",
       "      <td>40705.92</td>\n",
       "    </tr>\n",
       "    <tr>\n",
       "      <th>1302</th>\n",
       "      <td>1302</td>\n",
       "      <td>Asus</td>\n",
       "      <td>Notebook</td>\n",
       "      <td>15.6</td>\n",
       "      <td>1366x768</td>\n",
       "      <td>Intel Celeron Dual Core N3050 1.6GHz</td>\n",
       "      <td>4GB</td>\n",
       "      <td>500GB HDD</td>\n",
       "      <td>Intel HD Graphics</td>\n",
       "      <td>Windows 10</td>\n",
       "      <td>2.2kg</td>\n",
       "      <td>19660.32</td>\n",
       "    </tr>\n",
       "  </tbody>\n",
       "</table>\n",
       "</div>"
      ],
      "text/plain": [
       "      Unnamed: 0 Company            TypeName  Inches  \\\n",
       "1298        1298  Lenovo  2 in 1 Convertible    14.0   \n",
       "1299        1299  Lenovo  2 in 1 Convertible    13.3   \n",
       "1300        1300  Lenovo            Notebook    14.0   \n",
       "1301        1301      HP            Notebook    15.6   \n",
       "1302        1302    Asus            Notebook    15.6   \n",
       "\n",
       "                                ScreenResolution  \\\n",
       "1298   IPS Panel Full HD / Touchscreen 1920x1080   \n",
       "1299  IPS Panel Quad HD+ / Touchscreen 3200x1800   \n",
       "1300                                    1366x768   \n",
       "1301                                    1366x768   \n",
       "1302                                    1366x768   \n",
       "\n",
       "                                       Cpu   Ram              Memory  \\\n",
       "1298            Intel Core i7 6500U 2.5GHz   4GB           128GB SSD   \n",
       "1299            Intel Core i7 6500U 2.5GHz  16GB           512GB SSD   \n",
       "1300  Intel Celeron Dual Core N3050 1.6GHz   2GB  64GB Flash Storage   \n",
       "1301            Intel Core i7 6500U 2.5GHz   6GB             1TB HDD   \n",
       "1302  Intel Celeron Dual Core N3050 1.6GHz   4GB           500GB HDD   \n",
       "\n",
       "                        Gpu       OpSys  Weight     Price  \n",
       "1298  Intel HD Graphics 520  Windows 10   1.8kg  33992.64  \n",
       "1299  Intel HD Graphics 520  Windows 10   1.3kg  79866.72  \n",
       "1300      Intel HD Graphics  Windows 10   1.5kg  12201.12  \n",
       "1301     AMD Radeon R5 M330  Windows 10  2.19kg  40705.92  \n",
       "1302      Intel HD Graphics  Windows 10   2.2kg  19660.32  "
      ]
     },
     "execution_count": 26,
     "metadata": {},
     "output_type": "execute_result"
    }
   ],
   "source": [
    "ky.tail(5)"
   ]
  },
  {
   "cell_type": "markdown",
   "id": "064b942c-99a2-4be4-9ad8-ae12df5d71cb",
   "metadata": {},
   "source": [
    "melihat tipe data"
   ]
  },
  {
   "cell_type": "code",
   "execution_count": 29,
   "id": "7231791b-879a-4f48-a13f-298a613b166d",
   "metadata": {},
   "outputs": [
    {
     "data": {
      "text/plain": [
       "Unnamed: 0            int64\n",
       "Company              object\n",
       "TypeName             object\n",
       "Inches              float64\n",
       "ScreenResolution     object\n",
       "Cpu                  object\n",
       "Ram                  object\n",
       "Memory               object\n",
       "Gpu                  object\n",
       "OpSys                object\n",
       "Weight               object\n",
       "Price               float64\n",
       "dtype: object"
      ]
     },
     "execution_count": 29,
     "metadata": {},
     "output_type": "execute_result"
    }
   ],
   "source": [
    "ky.dtypes"
   ]
  },
  {
   "cell_type": "markdown",
   "id": "caadfeab-183e-4495-92d2-e19f199e37bd",
   "metadata": {},
   "source": [
    "menghapus kolom yang tidak perlu"
   ]
  },
  {
   "cell_type": "code",
   "execution_count": 32,
   "id": "2955ada5-7e30-4b83-b716-62cb4efc4eff",
   "metadata": {},
   "outputs": [
    {
     "data": {
      "text/html": [
       "<div>\n",
       "<style scoped>\n",
       "    .dataframe tbody tr th:only-of-type {\n",
       "        vertical-align: middle;\n",
       "    }\n",
       "\n",
       "    .dataframe tbody tr th {\n",
       "        vertical-align: top;\n",
       "    }\n",
       "\n",
       "    .dataframe thead th {\n",
       "        text-align: right;\n",
       "    }\n",
       "</style>\n",
       "<table border=\"1\" class=\"dataframe\">\n",
       "  <thead>\n",
       "    <tr style=\"text-align: right;\">\n",
       "      <th></th>\n",
       "      <th>Unnamed: 0</th>\n",
       "      <th>Company</th>\n",
       "      <th>TypeName</th>\n",
       "      <th>Inches</th>\n",
       "      <th>ScreenResolution</th>\n",
       "      <th>Ram</th>\n",
       "      <th>Gpu</th>\n",
       "      <th>Price</th>\n",
       "    </tr>\n",
       "  </thead>\n",
       "  <tbody>\n",
       "    <tr>\n",
       "      <th>0</th>\n",
       "      <td>0</td>\n",
       "      <td>Apple</td>\n",
       "      <td>Ultrabook</td>\n",
       "      <td>13.3</td>\n",
       "      <td>IPS Panel Retina Display 2560x1600</td>\n",
       "      <td>8GB</td>\n",
       "      <td>Intel Iris Plus Graphics 640</td>\n",
       "      <td>71378.6832</td>\n",
       "    </tr>\n",
       "    <tr>\n",
       "      <th>1</th>\n",
       "      <td>1</td>\n",
       "      <td>Apple</td>\n",
       "      <td>Ultrabook</td>\n",
       "      <td>13.3</td>\n",
       "      <td>1440x900</td>\n",
       "      <td>8GB</td>\n",
       "      <td>Intel HD Graphics 6000</td>\n",
       "      <td>47895.5232</td>\n",
       "    </tr>\n",
       "    <tr>\n",
       "      <th>2</th>\n",
       "      <td>2</td>\n",
       "      <td>HP</td>\n",
       "      <td>Notebook</td>\n",
       "      <td>15.6</td>\n",
       "      <td>Full HD 1920x1080</td>\n",
       "      <td>8GB</td>\n",
       "      <td>Intel HD Graphics 620</td>\n",
       "      <td>30636.0000</td>\n",
       "    </tr>\n",
       "    <tr>\n",
       "      <th>3</th>\n",
       "      <td>3</td>\n",
       "      <td>Apple</td>\n",
       "      <td>Ultrabook</td>\n",
       "      <td>15.4</td>\n",
       "      <td>IPS Panel Retina Display 2880x1800</td>\n",
       "      <td>16GB</td>\n",
       "      <td>AMD Radeon Pro 455</td>\n",
       "      <td>135195.3360</td>\n",
       "    </tr>\n",
       "    <tr>\n",
       "      <th>4</th>\n",
       "      <td>4</td>\n",
       "      <td>Apple</td>\n",
       "      <td>Ultrabook</td>\n",
       "      <td>13.3</td>\n",
       "      <td>IPS Panel Retina Display 2560x1600</td>\n",
       "      <td>8GB</td>\n",
       "      <td>Intel Iris Plus Graphics 650</td>\n",
       "      <td>96095.8080</td>\n",
       "    </tr>\n",
       "  </tbody>\n",
       "</table>\n",
       "</div>"
      ],
      "text/plain": [
       "   Unnamed: 0 Company   TypeName  Inches                    ScreenResolution  \\\n",
       "0           0   Apple  Ultrabook    13.3  IPS Panel Retina Display 2560x1600   \n",
       "1           1   Apple  Ultrabook    13.3                            1440x900   \n",
       "2           2      HP   Notebook    15.6                   Full HD 1920x1080   \n",
       "3           3   Apple  Ultrabook    15.4  IPS Panel Retina Display 2880x1800   \n",
       "4           4   Apple  Ultrabook    13.3  IPS Panel Retina Display 2560x1600   \n",
       "\n",
       "    Ram                           Gpu        Price  \n",
       "0   8GB  Intel Iris Plus Graphics 640   71378.6832  \n",
       "1   8GB        Intel HD Graphics 6000   47895.5232  \n",
       "2   8GB         Intel HD Graphics 620   30636.0000  \n",
       "3  16GB            AMD Radeon Pro 455  135195.3360  \n",
       "4   8GB  Intel Iris Plus Graphics 650   96095.8080  "
      ]
     },
     "execution_count": 32,
     "metadata": {},
     "output_type": "execute_result"
    }
   ],
   "source": [
    "ky = ky.drop(['Memory','OpSys','Weight','Cpu'], axis=1)\n",
    "ky.head(5)"
   ]
  },
  {
   "cell_type": "markdown",
   "id": "96ae1154-0c2a-4eec-bd69-3fe551d00a52",
   "metadata": {},
   "source": [
    "ganti nama kolom"
   ]
  },
  {
   "cell_type": "code",
   "execution_count": 39,
   "id": "88d252ba-1039-4456-aaf9-a635885fcffe",
   "metadata": {},
   "outputs": [
    {
     "data": {
      "text/html": [
       "<div>\n",
       "<style scoped>\n",
       "    .dataframe tbody tr th:only-of-type {\n",
       "        vertical-align: middle;\n",
       "    }\n",
       "\n",
       "    .dataframe tbody tr th {\n",
       "        vertical-align: top;\n",
       "    }\n",
       "\n",
       "    .dataframe thead th {\n",
       "        text-align: right;\n",
       "    }\n",
       "</style>\n",
       "<table border=\"1\" class=\"dataframe\">\n",
       "  <thead>\n",
       "    <tr style=\"text-align: right;\">\n",
       "      <th></th>\n",
       "      <th>Unnamed: 0</th>\n",
       "      <th>Perusahaan</th>\n",
       "      <th>TypeName</th>\n",
       "      <th>Inches</th>\n",
       "      <th>ScreenResolution</th>\n",
       "      <th>Ram</th>\n",
       "      <th>Gpu</th>\n",
       "      <th>Harga</th>\n",
       "    </tr>\n",
       "  </thead>\n",
       "  <tbody>\n",
       "    <tr>\n",
       "      <th>0</th>\n",
       "      <td>0</td>\n",
       "      <td>Apple</td>\n",
       "      <td>Ultrabook</td>\n",
       "      <td>13.3</td>\n",
       "      <td>IPS Panel Retina Display 2560x1600</td>\n",
       "      <td>8GB</td>\n",
       "      <td>Intel Iris Plus Graphics 640</td>\n",
       "      <td>71378.6832</td>\n",
       "    </tr>\n",
       "    <tr>\n",
       "      <th>1</th>\n",
       "      <td>1</td>\n",
       "      <td>Apple</td>\n",
       "      <td>Ultrabook</td>\n",
       "      <td>13.3</td>\n",
       "      <td>1440x900</td>\n",
       "      <td>8GB</td>\n",
       "      <td>Intel HD Graphics 6000</td>\n",
       "      <td>47895.5232</td>\n",
       "    </tr>\n",
       "    <tr>\n",
       "      <th>2</th>\n",
       "      <td>2</td>\n",
       "      <td>HP</td>\n",
       "      <td>Notebook</td>\n",
       "      <td>15.6</td>\n",
       "      <td>Full HD 1920x1080</td>\n",
       "      <td>8GB</td>\n",
       "      <td>Intel HD Graphics 620</td>\n",
       "      <td>30636.0000</td>\n",
       "    </tr>\n",
       "    <tr>\n",
       "      <th>3</th>\n",
       "      <td>3</td>\n",
       "      <td>Apple</td>\n",
       "      <td>Ultrabook</td>\n",
       "      <td>15.4</td>\n",
       "      <td>IPS Panel Retina Display 2880x1800</td>\n",
       "      <td>16GB</td>\n",
       "      <td>AMD Radeon Pro 455</td>\n",
       "      <td>135195.3360</td>\n",
       "    </tr>\n",
       "    <tr>\n",
       "      <th>4</th>\n",
       "      <td>4</td>\n",
       "      <td>Apple</td>\n",
       "      <td>Ultrabook</td>\n",
       "      <td>13.3</td>\n",
       "      <td>IPS Panel Retina Display 2560x1600</td>\n",
       "      <td>8GB</td>\n",
       "      <td>Intel Iris Plus Graphics 650</td>\n",
       "      <td>96095.8080</td>\n",
       "    </tr>\n",
       "    <tr>\n",
       "      <th>5</th>\n",
       "      <td>5</td>\n",
       "      <td>Acer</td>\n",
       "      <td>Notebook</td>\n",
       "      <td>15.6</td>\n",
       "      <td>1366x768</td>\n",
       "      <td>4GB</td>\n",
       "      <td>AMD Radeon R5</td>\n",
       "      <td>21312.0000</td>\n",
       "    </tr>\n",
       "  </tbody>\n",
       "</table>\n",
       "</div>"
      ],
      "text/plain": [
       "   Unnamed: 0 Perusahaan   TypeName  Inches  \\\n",
       "0           0      Apple  Ultrabook    13.3   \n",
       "1           1      Apple  Ultrabook    13.3   \n",
       "2           2         HP   Notebook    15.6   \n",
       "3           3      Apple  Ultrabook    15.4   \n",
       "4           4      Apple  Ultrabook    13.3   \n",
       "5           5       Acer   Notebook    15.6   \n",
       "\n",
       "                     ScreenResolution   Ram                           Gpu  \\\n",
       "0  IPS Panel Retina Display 2560x1600   8GB  Intel Iris Plus Graphics 640   \n",
       "1                            1440x900   8GB        Intel HD Graphics 6000   \n",
       "2                   Full HD 1920x1080   8GB         Intel HD Graphics 620   \n",
       "3  IPS Panel Retina Display 2880x1800  16GB            AMD Radeon Pro 455   \n",
       "4  IPS Panel Retina Display 2560x1600   8GB  Intel Iris Plus Graphics 650   \n",
       "5                            1366x768   4GB                 AMD Radeon R5   \n",
       "\n",
       "         Harga  \n",
       "0   71378.6832  \n",
       "1   47895.5232  \n",
       "2   30636.0000  \n",
       "3  135195.3360  \n",
       "4   96095.8080  \n",
       "5   21312.0000  "
      ]
     },
     "execution_count": 39,
     "metadata": {},
     "output_type": "execute_result"
    }
   ],
   "source": [
    "ky = ky.rename(columns={\"Company\":\"Perusahaan\",\"Price\":\"Harga\"})\n",
    "ky.head(6)"
   ]
  },
  {
   "cell_type": "markdown",
   "id": "766889e4-3a24-48b2-aef9-6063f847c25f",
   "metadata": {},
   "source": [
    "mencari data yang terduplikat sekaligus menunjukkannya"
   ]
  },
  {
   "cell_type": "code",
   "execution_count": 42,
   "id": "1d3e04c4-eb08-49ea-8e9d-3338152f22a0",
   "metadata": {},
   "outputs": [
    {
     "name": "stdout",
     "output_type": "stream",
     "text": [
      "Duplicated Data: Empty DataFrame\n",
      "Columns: [Unnamed: 0, Perusahaan, TypeName, Inches, ScreenResolution, Ram, Gpu, Harga]\n",
      "Index: []\n"
     ]
    }
   ],
   "source": [
    "duplicate_ky=ky[ky.duplicated()]\n",
    "print(\"Duplicated Data:\", duplicate_ky)"
   ]
  },
  {
   "cell_type": "markdown",
   "id": "303f6ab8-4467-47c1-b81c-e3a3ea4f6cfa",
   "metadata": {},
   "source": [
    "mengecek jumlah nilai hilang sebelum menghapus"
   ]
  },
  {
   "cell_type": "code",
   "execution_count": 45,
   "id": "39ea4c40-7c04-4c0b-bb93-173f5e457a65",
   "metadata": {},
   "outputs": [
    {
     "name": "stdout",
     "output_type": "stream",
     "text": [
      "Unnamed: 0          0\n",
      "Perusahaan          0\n",
      "TypeName            0\n",
      "Inches              0\n",
      "ScreenResolution    0\n",
      "Ram                 0\n",
      "Gpu                 0\n",
      "Harga               0\n",
      "dtype: int64\n"
     ]
    }
   ],
   "source": [
    "print(ky.isnull().sum())"
   ]
  },
  {
   "cell_type": "markdown",
   "id": "e38d7862-5fe0-4f7c-95de-3d743e7f14fa",
   "metadata": {},
   "source": [
    "menghapus baris yang memiliki nilai hilang"
   ]
  },
  {
   "cell_type": "code",
   "execution_count": 48,
   "id": "8386af06-d37e-4af7-85c6-d196c6ffa42e",
   "metadata": {},
   "outputs": [],
   "source": [
    "ky = ky.dropna()"
   ]
  },
  {
   "cell_type": "markdown",
   "id": "a32d2997-72bf-4dfc-aeaa-a1c417e637b6",
   "metadata": {},
   "source": [
    "mengecek jumlah nilai non-null setelah menghapus"
   ]
  },
  {
   "cell_type": "code",
   "execution_count": 51,
   "id": "53ec72fa-03b3-4032-91ac-37d36ebf40a9",
   "metadata": {},
   "outputs": [
    {
     "name": "stdout",
     "output_type": "stream",
     "text": [
      "Unnamed: 0          1303\n",
      "Perusahaan          1303\n",
      "TypeName            1303\n",
      "Inches              1303\n",
      "ScreenResolution    1303\n",
      "Ram                 1303\n",
      "Gpu                 1303\n",
      "Harga               1303\n",
      "dtype: int64\n"
     ]
    }
   ],
   "source": [
    "print(ky.count())"
   ]
  },
  {
   "cell_type": "markdown",
   "id": "ae1736b9-8f47-4992-bda7-987e3d3ddc32",
   "metadata": {},
   "source": [
    "memeriksa kembali apakah masih ada nilai hilang"
   ]
  },
  {
   "cell_type": "code",
   "execution_count": 54,
   "id": "df24e230-acd4-4442-b883-28ca996ae3f0",
   "metadata": {},
   "outputs": [
    {
     "name": "stdout",
     "output_type": "stream",
     "text": [
      "Unnamed: 0          0\n",
      "Perusahaan          0\n",
      "TypeName            0\n",
      "Inches              0\n",
      "ScreenResolution    0\n",
      "Ram                 0\n",
      "Gpu                 0\n",
      "Harga               0\n",
      "dtype: int64\n"
     ]
    }
   ],
   "source": [
    "print(ky.isnull().sum())"
   ]
  },
  {
   "cell_type": "markdown",
   "id": "3b1e9c33-5795-4f45-b565-6d3075ae397d",
   "metadata": {},
   "source": [
    "deteksi outlier dengan boxplot"
   ]
  },
  {
   "cell_type": "code",
   "execution_count": 61,
   "id": "5385b86c-a429-4c62-8e68-efcda661bead",
   "metadata": {},
   "outputs": [
    {
     "data": {
      "image/png": "[encoded data removed]",
      "text/plain": [
       "<Figure size 640x480 with 1 Axes>"
      ]
     },
     "metadata": {},
     "output_type": "display_data"
    },
    {
     "data": {
      "image/png": "[encoded data removed]",
      "text/plain": [
       "<Figure size 640x480 with 1 Axes>"
      ]
     },
     "metadata": {},
     "output_type": "display_data"
    },
    {
     "data": {
      "image/png": "[encoded data removed]",
      "text/plain": [
       "<Figure size 640x480 with 1 Axes>"
      ]
     },
     "metadata": {},
     "output_type": "display_data"
    }
   ],
   "source": [
    "sns.boxplot(x=ky['Harga'])\n",
    "plt.title('Boxplot Harga Laptop')\n",
    "plt.show()\n",
    "\n",
    "sns.boxplot(x=ky['Perusahaan'])\n",
    "plt.title('Boxplot Perusahaan Laptop')\n",
    "plt.show()\n",
    "\n",
    "sns.boxplot(x=ky['TypeName']) \n",
    "plt.title('Boxplot TypeName Laptop')\n",
    "plt.show()"
   ]
  },
  {
   "cell_type": "markdown",
   "id": "4511f5a5-6131-4f8a-a72d-8b14cd80cd59",
   "metadata": {},
   "source": [
    "pilih hanya kolom numerik dan Hitung Q1, Q3, dan IQR"
   ]
  },
  {
   "cell_type": "code",
   "execution_count": 64,
   "id": "1444dd85-614e-420c-a39c-159acc39a115",
   "metadata": {},
   "outputs": [],
   "source": [
    "ky_numeric = ky.select_dtypes(include=['number'])\n",
    "Q1 = ky_numeric.quantile(0.25)\n",
    "Q3 = ky_numeric.quantile(0.75)\n",
    "IQR = Q3 - Q1"
   ]
  },
  {
   "cell_type": "markdown",
   "id": "34cb3e35-b511-44b5-b438-9b4be4b72217",
   "metadata": {},
   "source": [
    "buang outlier hanya pada kolom numerik"
   ]
  },
  {
   "cell_type": "code",
   "execution_count": 69,
   "id": "7e888b8a-4189-4860-bc71-9e4b1c9de8e4",
   "metadata": {},
   "outputs": [
    {
     "name": "stdout",
     "output_type": "stream",
     "text": [
      "(1235, 8)\n"
     ]
    }
   ],
   "source": [
    "ky_numeric_cleaned = ky_numeric[~((ky_numeric < (Q1 - 1.5 * IQR)) | \n",
    "(ky_numeric > (Q3 + 1.5 * IQR))).any(axis=1)]\n",
    "ky_cleaned = ky.loc[ky_numeric_cleaned.index]\n",
    "print(ky_cleaned.shape)"
   ]
  },
  {
   "cell_type": "markdown",
   "id": "3b21b570-986e-42f0-8537-4edff3ee662f",
   "metadata": {},
   "source": [
    "menampilkan jumlah laptop berdasarkan Gpu"
   ]
  },
  {
   "cell_type": "code",
   "execution_count": 72,
   "id": "b2fbaf53-5e00-46f7-828c-326f7a776653",
   "metadata": {},
   "outputs": [
    {
     "data": {
      "image/png": "[encoded data removed]",
      "text/plain": [
       "<Figure size 1000x500 with 1 Axes>"
      ]
     },
     "metadata": {},
     "output_type": "display_data"
    }
   ],
   "source": [
    "ky.Gpu.value_counts().nlargest(40).plot(kind='bar', figsize=(10,5))\n",
    "plt.title(\"Jumlah laptop berdasarkan Gpu\")\n",
    "plt.ylabel('Jumlah laptop')\n",
    "plt.xlabel('Gpu')\n",
    "plt.show()"
   ]
  },
  {
   "cell_type": "markdown",
   "id": "3844268b-d823-40e2-9b2c-3cd6e91ff3bf",
   "metadata": {},
   "source": [
    "memilih hanya kolom numerik sebelum menghitung korelasi"
   ]
  },
  {
   "cell_type": "code",
   "execution_count": 75,
   "id": "c4e0a189-4db4-45ea-bee3-664b1dff40bc",
   "metadata": {},
   "outputs": [],
   "source": [
    "ky_numeric = ky.select_dtypes(include=['number'])"
   ]
  },
  {
   "cell_type": "markdown",
   "id": "65457ed8-5a82-496d-8a6c-f7ad646698cf",
   "metadata": {},
   "source": [
    "menghitung korelasi antar kolom numerik"
   ]
  },
  {
   "cell_type": "code",
   "execution_count": 78,
   "id": "e2bfc366-9e37-4765-ac42-cbbcba632419",
   "metadata": {},
   "outputs": [],
   "source": [
    "c = ky_numeric.corr()"
   ]
  },
  {
   "cell_type": "markdown",
   "id": "756490ce-4fb9-4c08-ab23-2b65cd1686a1",
   "metadata": {},
   "source": [
    "plot heatmap korelasi"
   ]
  },
  {
   "cell_type": "code",
   "execution_count": null,
   "id": "4487e9eb-f1a5-4da5-b89d-a709994f826b",
   "metadata": {},
   "outputs": [],
   "source": [
    "sns.heatmap(c, cmap=\"BrBG\", annot=True)\n",
    "plt.title(\"Correlation Heatmap\")\n",
    "plt.show()"
   ]
  }
 ],
 "metadata": {
  "kernelspec": {
   "display_name": "Python [conda env:base] *",
   "language": "python",
   "name": "conda-base-py"
  },
  "language_info": {
   "codemirror_mode": {
    "name": "ipython",
    "version": 3
   },
   "file_extension": ".py",
   "mimetype": "text/x-python",
   "name": "python",
   "nbconvert_exporter": "python",
   "pygments_lexer": "ipython3",
   "version": "3.12.7"
  }
 },
 "nbformat": 4,
 "nbformat_minor": 5
}
